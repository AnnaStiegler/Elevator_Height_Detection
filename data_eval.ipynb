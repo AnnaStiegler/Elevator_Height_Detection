{
 "cells": [
  {
   "cell_type": "code",
   "execution_count": null,
   "id": "b7242cba",
   "metadata": {},
   "outputs": [],
   "source": [
    "import pandas as pd\n",
    "import matplotlib.pyplot as plt\n",
    "import numpy as np\n",
    "import Path"
   ]
  },
  {
   "cell_type": "code",
   "execution_count": null,
   "id": "433f2301",
   "metadata": {},
   "outputs": [],
   "source": [
    "base_path = Path(\"...\")"
   ]
  },
  {
   "cell_type": "code",
   "execution_count": null,
   "id": "11882a81",
   "metadata": {},
   "outputs": [],
   "source": [
    "df_eg_bar = pd.read_csv(r\"Eg-2025-05-07_12-17-08\\Barometer.csv\")\n",
    "df_1g_bar = pd.read_csv(r\"1_og-2025-05-07_12-17-43\\Barometer.csv\")\n",
    "df_2g_bar = pd.read_csv(r\"2_og-2025-05-07_12-18-13\\Barometer.csv\")"
   ]
  },
  {
   "cell_type": "code",
   "execution_count": null,
   "id": "1abce383",
   "metadata": {},
   "outputs": [],
   "source": [
    "def conv_mbar_to_pa(df_mbar):\n",
    "    return df_mbar['pressure'] * 100"
   ]
  },
  {
   "cell_type": "code",
   "execution_count": null,
   "id": "f4770b7d",
   "metadata": {},
   "outputs": [],
   "source": [
    "def add_magnitude(df):\n",
    "    df[\"magnitude\"] = np.sqrt(df[\"x\"]**2 + df[\"y\"]**2 + df[\"z\"]**2)\n",
    "    return df"
   ]
  },
  {
   "cell_type": "code",
   "execution_count": null,
   "id": "b65bc3a5",
   "metadata": {},
   "outputs": [],
   "source": [
    "def plot_barometer(df, title, filename):\n",
    "    fig, ax = plt.subplots(figsize=(10, 6))\n",
    "    plt.plot(df[\"seconds_elapsed\"], df[\"pressure\"])\n",
    "    plt.xlabel('Elapsed Time (s)')\n",
    "    plt.ylabel('Pressure (Pa)')\n",
    "    plt.legend()\n",
    "    plt.title(title)\n",
    "    plt.grid()\n",
    "    plt.savefig(filename)\n",
    "    plt.show()\n",
    "    plt.close()"
   ]
  },
  {
   "cell_type": "code",
   "execution_count": null,
   "id": "a971fbbb",
   "metadata": {},
   "outputs": [],
   "source": [
    "def plot_accelerometer(df, title, filename):\n",
    "    fig, ax = plt.subplots(figsize=(10, 6))\n",
    "    plt.plot(df[\"seconds_elapsed\"], df[\"magnitude\"])\n",
    "    plt.xlabel('Elapsed Time (s)')\n",
    "    plt.ylabel('Magnitude (m/s^2)')\n",
    "    plt.legend()\n",
    "    plt.title(title)\n",
    "    plt.grid()\n",
    "    plt.savefig(filename)\n",
    "    plt.show()\n",
    "    plt.close()"
   ]
  },
  {
   "cell_type": "code",
   "execution_count": null,
   "id": "d2d033d2",
   "metadata": {},
   "outputs": [],
   "source": [
    "def show_top_10(df, column):\n",
    "    return df.nlargest(10, column)"
   ]
  },
  {
   "cell_type": "code",
   "execution_count": null,
   "id": "4b84bffe",
   "metadata": {},
   "outputs": [],
   "source": [
    "def show_bottom_10(df, column):\n",
    "    return df.nsmallest(10, column)"
   ]
  }
 ],
 "metadata": {
  "language_info": {
   "name": "python"
  }
 },
 "nbformat": 4,
 "nbformat_minor": 5
}
