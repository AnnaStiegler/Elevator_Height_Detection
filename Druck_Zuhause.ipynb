{
 "cells": [
  {
   "cell_type": "code",
   "execution_count": 20,
   "id": "9525abf1",
   "metadata": {},
   "outputs": [],
   "source": [
    "import pandas as pd\n",
    "import matplotlib.pyplot as plt\n",
    "import numpy as np"
   ]
  },
  {
   "cell_type": "code",
   "execution_count": 21,
   "id": "22e7f0a2",
   "metadata": {},
   "outputs": [],
   "source": [
    "df_eg_bar = pd.read_csv(r\"Eg-2025-05-07_12-17-08\\Barometer.csv\")\n",
    "df_1g_bar = pd.read_csv(r\"1_og-2025-05-07_12-17-43\\Barometer.csv\")\n",
    "df_2g_bar = pd.read_csv(r\"2_og-2025-05-07_12-18-13\\Barometer.csv\")"
   ]
  },
  {
   "cell_type": "code",
   "execution_count": 22,
   "id": "fe1b752f",
   "metadata": {},
   "outputs": [],
   "source": [
    "#converting values from mbar to Pa\n",
    "df_eg_bar['pressure'] = df_eg_bar['pressure']*100\n",
    "df_1g_bar['pressure'] = df_1g_bar['pressure']*100\n",
    "df_2g_bar['pressure'] = df_2g_bar['pressure']*100"
   ]
  },
  {
   "cell_type": "code",
   "execution_count": 23,
   "id": "ed7b69df",
   "metadata": {},
   "outputs": [
    {
     "data": {
      "text/html": [
       "<div>\n",
       "<style scoped>\n",
       "    .dataframe tbody tr th:only-of-type {\n",
       "        vertical-align: middle;\n",
       "    }\n",
       "\n",
       "    .dataframe tbody tr th {\n",
       "        vertical-align: top;\n",
       "    }\n",
       "\n",
       "    .dataframe thead th {\n",
       "        text-align: right;\n",
       "    }\n",
       "</style>\n",
       "<table border=\"1\" class=\"dataframe\">\n",
       "  <thead>\n",
       "    <tr style=\"text-align: right;\">\n",
       "      <th></th>\n",
       "      <th>time</th>\n",
       "      <th>seconds_elapsed</th>\n",
       "      <th>relativeAltitude</th>\n",
       "      <th>pressure</th>\n",
       "    </tr>\n",
       "  </thead>\n",
       "  <tbody>\n",
       "    <tr>\n",
       "      <th>0</th>\n",
       "      <td>1746620228315928300</td>\n",
       "      <td>0.198928</td>\n",
       "      <td>0.000000</td>\n",
       "      <td>101548.822021</td>\n",
       "    </tr>\n",
       "    <tr>\n",
       "      <th>1</th>\n",
       "      <td>1746620228340960800</td>\n",
       "      <td>0.223961</td>\n",
       "      <td>-0.073984</td>\n",
       "      <td>101549.737549</td>\n",
       "    </tr>\n",
       "    <tr>\n",
       "      <th>2</th>\n",
       "      <td>1746620228365992000</td>\n",
       "      <td>0.248992</td>\n",
       "      <td>-0.073984</td>\n",
       "      <td>101549.737549</td>\n",
       "    </tr>\n",
       "    <tr>\n",
       "      <th>3</th>\n",
       "      <td>1746620228391023900</td>\n",
       "      <td>0.274024</td>\n",
       "      <td>0.026423</td>\n",
       "      <td>101548.516846</td>\n",
       "    </tr>\n",
       "    <tr>\n",
       "      <th>4</th>\n",
       "      <td>1746620228416068600</td>\n",
       "      <td>0.299069</td>\n",
       "      <td>0.052845</td>\n",
       "      <td>101548.211670</td>\n",
       "    </tr>\n",
       "    <tr>\n",
       "      <th>...</th>\n",
       "      <td>...</td>\n",
       "      <td>...</td>\n",
       "      <td>...</td>\n",
       "      <td>...</td>\n",
       "    </tr>\n",
       "    <tr>\n",
       "      <th>202</th>\n",
       "      <td>1746620233371894000</td>\n",
       "      <td>5.254894</td>\n",
       "      <td>-0.634146</td>\n",
       "      <td>101556.427002</td>\n",
       "    </tr>\n",
       "    <tr>\n",
       "      <th>203</th>\n",
       "      <td>1746620233396926000</td>\n",
       "      <td>5.279926</td>\n",
       "      <td>-0.681705</td>\n",
       "      <td>101557.037354</td>\n",
       "    </tr>\n",
       "    <tr>\n",
       "      <th>204</th>\n",
       "      <td>1746620233421946600</td>\n",
       "      <td>5.304947</td>\n",
       "      <td>-0.734552</td>\n",
       "      <td>101557.647705</td>\n",
       "    </tr>\n",
       "    <tr>\n",
       "      <th>205</th>\n",
       "      <td>1746620233446975700</td>\n",
       "      <td>5.329976</td>\n",
       "      <td>-0.708130</td>\n",
       "      <td>101557.342529</td>\n",
       "    </tr>\n",
       "    <tr>\n",
       "      <th>206</th>\n",
       "      <td>1746620233472004000</td>\n",
       "      <td>5.355004</td>\n",
       "      <td>-0.554878</td>\n",
       "      <td>101555.511475</td>\n",
       "    </tr>\n",
       "  </tbody>\n",
       "</table>\n",
       "<p>207 rows × 4 columns</p>\n",
       "</div>"
      ],
      "text/plain": [
       "                    time  seconds_elapsed  relativeAltitude       pressure\n",
       "0    1746620228315928300         0.198928          0.000000  101548.822021\n",
       "1    1746620228340960800         0.223961         -0.073984  101549.737549\n",
       "2    1746620228365992000         0.248992         -0.073984  101549.737549\n",
       "3    1746620228391023900         0.274024          0.026423  101548.516846\n",
       "4    1746620228416068600         0.299069          0.052845  101548.211670\n",
       "..                   ...              ...               ...            ...\n",
       "202  1746620233371894000         5.254894         -0.634146  101556.427002\n",
       "203  1746620233396926000         5.279926         -0.681705  101557.037354\n",
       "204  1746620233421946600         5.304947         -0.734552  101557.647705\n",
       "205  1746620233446975700         5.329976         -0.708130  101557.342529\n",
       "206  1746620233472004000         5.355004         -0.554878  101555.511475\n",
       "\n",
       "[207 rows x 4 columns]"
      ]
     },
     "execution_count": 23,
     "metadata": {},
     "output_type": "execute_result"
    }
   ],
   "source": [
    "df_eg_bar"
   ]
  },
  {
   "cell_type": "code",
   "execution_count": 24,
   "id": "0179090a",
   "metadata": {},
   "outputs": [
    {
     "data": {
      "text/plain": [
       "101554.46803880774"
      ]
     },
     "execution_count": 24,
     "metadata": {},
     "output_type": "execute_result"
    }
   ],
   "source": [
    "eg_bar = df_eg_bar['pressure'].mean()\n",
    "eg_bar\n",
    "\n"
   ]
  },
  {
   "cell_type": "code",
   "execution_count": 25,
   "id": "36d2dcc2",
   "metadata": {},
   "outputs": [
    {
     "data": {
      "text/plain": [
       "2.682938234124455"
      ]
     },
     "execution_count": 25,
     "metadata": {},
     "output_type": "execute_result"
    }
   ],
   "source": [
    "eg_bar_std = df_eg_bar['pressure'].std()\n",
    "eg_bar_std"
   ]
  },
  {
   "cell_type": "code",
   "execution_count": 26,
   "id": "31d8df2c",
   "metadata": {},
   "outputs": [
    {
     "data": {
      "text/plain": [
       "101501.96364996002"
      ]
     },
     "execution_count": 26,
     "metadata": {},
     "output_type": "execute_result"
    }
   ],
   "source": [
    "bar_1g = df_1g_bar['pressure'].mean()\n",
    "bar_1g"
   ]
  },
  {
   "cell_type": "code",
   "execution_count": 27,
   "id": "b36fbb2a",
   "metadata": {},
   "outputs": [
    {
     "data": {
      "text/plain": [
       "101453.77086292613"
      ]
     },
     "execution_count": 27,
     "metadata": {},
     "output_type": "execute_result"
    }
   ],
   "source": [
    "bar_2g = df_2g_bar['pressure'].mean()\n",
    "bar_2g"
   ]
  },
  {
   "cell_type": "code",
   "execution_count": null,
   "id": "25d3ff18",
   "metadata": {},
   "outputs": [],
   "source": []
  }
 ],
 "metadata": {
  "kernelspec": {
   "display_name": "base",
   "language": "python",
   "name": "python3"
  },
  "language_info": {
   "codemirror_mode": {
    "name": "ipython",
    "version": 3
   },
   "file_extension": ".py",
   "mimetype": "text/x-python",
   "name": "python",
   "nbconvert_exporter": "python",
   "pygments_lexer": "ipython3",
   "version": "3.12.7"
  }
 },
 "nbformat": 4,
 "nbformat_minor": 5
}
